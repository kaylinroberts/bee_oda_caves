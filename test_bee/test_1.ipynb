{
 "cells": [
  {
   "cell_type": "code",
   "execution_count": 1,
   "metadata": {},
   "outputs": [],
   "source": [
    "import cv2\n",
    "import numpy as np\n",
    "from funcs import *"
   ]
  },
  {
   "cell_type": "code",
   "execution_count": 138,
   "metadata": {},
   "outputs": [],
   "source": [
    "mask = cv2.imread('created_masks/UCSB-IZC00046621_5x_hef_lg/eyes.png'\n",
    "                  , cv2.IMREAD_GRAYSCALE)\n",
    "ret, thresh = cv2.threshold(mask, 127, 255, cv2.THRESH_BINARY)\n",
    "\n",
    "contours, hierarchy = cv2.findContours(thresh, cv2.RETR_EXTERNAL, cv2.CHAIN_APPROX_NONE)"
   ]
  },
  {
   "attachments": {},
   "cell_type": "markdown",
   "metadata": {},
   "source": [
    "## Visualize the Contours "
   ]
  },
  {
   "cell_type": "code",
   "execution_count": 141,
   "metadata": {},
   "outputs": [
    {
     "name": "stdout",
     "output_type": "stream",
     "text": [
      "133.44641634986323\n"
     ]
    }
   ],
   "source": [
    "cnt = contours[0]\n",
    "canvas = np.zeros_like(mask)\n",
    "canvas.fill(255)\n",
    "canvas = cv2.cvtColor(canvas, cv2.COLOR_GRAY2BGR)\n",
    "\n",
    "# find the bounding box of the contour \n",
    "rect = cv2.minAreaRect(cnt)\n",
    "box = cv2.boxPoints(rect)\n",
    "box = np.int0(box)\n",
    "angle1 = rect[2]\n",
    "\n",
    "# is it left eye or right eye\n",
    "direction = \"right\"\n",
    "\n",
    "if angle1 > 45 and direction == \"left\":\n",
    "    # rotate the eye to make the following code works\n",
    "    cnt = rotate_contour(cnt, 90-angle1)\n",
    "    rect = cv2.minAreaRect(cnt)\n",
    "    box = cv2.boxPoints(rect)\n",
    "    box = np.int0(box)\n",
    "\n",
    "if angle1 > 45 and direction == \"right\":\n",
    "    # rotate the eye to make the following code works\n",
    "    cnt = rotate_contour(cnt, 90-angle1)\n",
    "    rect = cv2.minAreaRect(cnt)\n",
    "    box = cv2.boxPoints(rect)\n",
    "    box = np.int0(box)\n",
    "\n",
    "cv2.drawContours(canvas,[box],0,(0,255,),5)\n",
    "cv2.drawContours(canvas, cnt, -1, (0, 255, 0), 5)\n",
    "\n",
    "# find the centroid of the shape\n",
    "M = cv2.moments(cnt)\n",
    "cx = int(M['m10']/M['m00'])\n",
    "cy = int(M['m01']/M['m00'])\n",
    "centroid_point = (cx,cy)\n",
    "cv2.circle(canvas, (cx, cy), radius=20, color=(0, 0, 255), thickness=-1)\n",
    "\n",
    "\n",
    "if direction == \"right\":\n",
    "    sorted_indices = np.argsort(-box[:, 0])\n",
    "    right_two_indexes = sorted_indices[:2]\n",
    "    right_two_points = box[right_two_indexes]\n",
    "    right1 = right_two_points[0]\n",
    "    right2 = right_two_points[1]\n",
    "\n",
    "    point1, index1= find_closest_point(centroid_point, tuple(right1), cnt)\n",
    "    point2, index2 = find_closest_point(centroid_point, tuple(right2), cnt)\n",
    "    cv2.line(canvas, centroid_point, tuple(right1), color=(255, 255, 0), thickness=2, lineType=cv2.LINE_AA, shift=0)\n",
    "    cv2.line(canvas, centroid_point, tuple(right2), color=(255, 255, 0), thickness=2, lineType=cv2.LINE_AA, shift=0)\n",
    "    cv2.circle(canvas, tuple(point1), 20, (255, 0, 0), -1)\n",
    "    cv2.circle(canvas, tuple(point2), 20, (255, 0, 0), -1)\n",
    "    print(angle_between_3_points(right1, centroid_point, right2))\n",
    "\n",
    "if direction == \"left\":\n",
    "\n",
    "    sorted_indices = np.argsort(box[:, 0])\n",
    "    left_two_indexes = sorted_indices[:2]\n",
    "    left_two_points = box[left_two_indexes]\n",
    "    left1 = left_two_points[0]\n",
    "    left2 = left_two_points[1]\n",
    "\n",
    "    point1, index1= find_closest_point(centroid_point, tuple(left1), cnt)\n",
    "    point2, index2 = find_closest_point(centroid_point, tuple(left2), cnt)\n",
    "    cv2.line(canvas, centroid_point, tuple(left1), color=(255, 255, 0), thickness=2, lineType=cv2.LINE_AA, shift=0)\n",
    "    cv2.line(canvas, centroid_point, tuple(left2), color=(255, 255, 0), thickness=2, lineType=cv2.LINE_AA, shift=0)\n",
    "    cv2.circle(canvas, tuple(point1), 20, (255, 0, 0), -1)\n",
    "    cv2.circle(canvas, tuple(point2), 20, (255, 0, 0), -1)\n",
    "    print(angle_between_3_points(left1, centroid_point, left2))\n",
    "\n",
    "\n",
    "line_contour = np.array([centroid_point, tuple(box[2])]).reshape((-1, 1, 2)).astype(np.int32)\n",
    "\n",
    "cv2.namedWindow(\"binary\", cv2.WINDOW_NORMAL)\n",
    "cv2.imshow('binary', canvas)\n",
    "cv2.waitKey(0)\n",
    "cv2.destroyAllWindows()"
   ]
  },
  {
   "cell_type": "code",
   "execution_count": 142,
   "metadata": {},
   "outputs": [],
   "source": [
    "## segment the contour \n",
    "index = np.sort([index1, index2])\n",
    "segments = np.split(cnt, index)[1]"
   ]
  },
  {
   "cell_type": "code",
   "execution_count": 143,
   "metadata": {},
   "outputs": [],
   "source": [
    "canvas = np.zeros_like(mask)\n",
    "canvas.fill(255)\n",
    "canvas = cv2.cvtColor(canvas, cv2.COLOR_GRAY2BGR)\n",
    "cv2.drawContours(canvas, segments, -1, (0, 255, 0), 5)\n",
    "\n",
    "cv2.namedWindow(\"binary\", cv2.WINDOW_NORMAL)\n",
    "cv2.imshow('binary', canvas)\n",
    "cv2.waitKey(0)\n",
    "cv2.destroyAllWindows()\n"
   ]
  },
  {
   "cell_type": "code",
   "execution_count": 144,
   "metadata": {},
   "outputs": [
    {
     "data": {
      "image/png": "[encoded data removed]",
      "text/plain": [
       "<Figure size 640x480 with 1 Axes>"
      ]
     },
     "metadata": {},
     "output_type": "display_data"
    }
   ],
   "source": [
    "# project contours into R^2 \n",
    "from scipy.spatial import distance\n",
    "\n",
    "coords = segments.reshape((len(segments), 2))\n",
    "x_values = [coord[0] for coord in coords]\n",
    "y_values = [coord[1] for coord in coords]\n",
    "\n",
    "\n",
    "plt.scatter(x_values, y_values, s=1)\n",
    "plt.show()\n"
   ]
  },
  {
   "cell_type": "code",
   "execution_count": 145,
   "metadata": {},
   "outputs": [
    {
     "name": "stdout",
     "output_type": "stream",
     "text": [
      "[1.0, 1.4142135623730951]\n"
     ]
    },
    {
     "data": {
      "text/plain": [
       "(1128, 2)"
      ]
     },
     "execution_count": 145,
     "metadata": {},
     "output_type": "execute_result"
    }
   ],
   "source": [
    "# distance between adjacent points in the contour\n",
    "distances = [distance.euclidean(coords[i], coords[i+1]) for i in range(len(coords)-1)]\n",
    "print(list(set(distances)))\n",
    "coords.shape"
   ]
  },
  {
   "cell_type": "code",
   "execution_count": 8,
   "metadata": {},
   "outputs": [],
   "source": [
    "import math\n",
    "\n",
    "def find_point_on_line(points, total_distance, start_point, start_index):\n",
    "    accumulated_distance = 0\n",
    "    current_point = start_point\n",
    "    \n",
    "    for i in range(start_index+1, len(points)):\n",
    "        distance = math.sqrt((points[i][0] - current_point[0])**2 + (points[i][1] - current_point[1])**2)\n",
    "        if accumulated_distance + distance >= total_distance:\n",
    "            update_index = i\n",
    "            remaining_distance = total_distance - accumulated_distance\n",
    "            proportion = remaining_distance / distance\n",
    "            x = current_point[0] + (points[i][0] - current_point[0]) * proportion\n",
    "            y = current_point[1] + (points[i][1] - current_point[1]) * proportion\n",
    "            #print(accumulated_distance)\n",
    "            return update_index, [x, y]\n",
    "        else:\n",
    "            accumulated_distance += distance\n",
    "            current_point = points[i]\n",
    "    \n",
    "    # If we reach the end of the array, return the last point\n",
    "    return points[-1]\n"
   ]
  },
  {
   "attachments": {},
   "cell_type": "markdown",
   "metadata": {},
   "source": [
    "## Points Sampling Example"
   ]
  },
  {
   "cell_type": "code",
   "execution_count": 148,
   "metadata": {},
   "outputs": [],
   "source": [
    "import random\n",
    "# sample size \n",
    "num_omma = 8\n",
    "omma_diameter_pixel = 25\n",
    "# make sure no out of range\n",
    "upper_bound = int(np.ceil(omma_diameter_pixel*num_omma))\n",
    "new_coords = coords[:-abs(upper_bound)]\n",
    "start = random.choice(new_coords)"
   ]
  },
  {
   "cell_type": "code",
   "execution_count": 149,
   "metadata": {},
   "outputs": [],
   "source": [
    "# problem with updating current_index\n",
    "omma_points = []\n",
    "current_omma = start\n",
    "new_coords_omma = coords.copy()\n",
    "current_index = np.where((new_coords_omma == current_omma).all(axis=1))[0][0]\n",
    "\n",
    "i = 0 \n",
    "while i < num_omma:\n",
    "    i += 1\n",
    "    current_index, next_omma = find_point_on_line(new_coords_omma, omma_diameter_pixel, current_omma, current_index)\n",
    "    new_coords_omma = np.insert(new_coords_omma, current_index - 1, next_omma, axis = 0)\n",
    "    omma_points.append(next_omma)\n",
    "    current_omma = next_omma\n",
    "    "
   ]
  },
  {
   "cell_type": "code",
   "execution_count": 150,
   "metadata": {},
   "outputs": [
    {
     "name": "stdout",
     "output_type": "stream",
     "text": [
      "The coordinates of sampled ommatidia are:\n"
     ]
    },
    {
     "data": {
      "text/plain": [
       "[[4257.0, 2269.6568542494924],\n",
       " [4266.0, 2251.313708498985],\n",
       " [4274.029437251523, 2232.0],\n",
       " [4282.0, 2213.2132034355964],\n",
       " [4290.129942314911, 2194.0],\n",
       " [4297.920310216783, 2175.079689783217],\n",
       " [4304.041630560343, 2154.9583694396574],\n",
       " [4311.5771644662755, 2135.4228355337245]]"
      ]
     },
     "execution_count": 150,
     "metadata": {},
     "output_type": "execute_result"
    }
   ],
   "source": [
    "# coordninates of sampled ommatidia\n",
    "print(\"The coordinates of sampled ommatidia are:\")\n",
    "omma_points"
   ]
  },
  {
   "cell_type": "code",
   "execution_count": 151,
   "metadata": {},
   "outputs": [
    {
     "data": {
      "image/png": "[encoded data removed]",
      "text/plain": [
       "<Figure size 640x480 with 1 Axes>"
      ]
     },
     "metadata": {},
     "output_type": "display_data"
    }
   ],
   "source": [
    "# fit the sampled points to a polynomial regression\n",
    "from scipy.optimize import curve_fit\n",
    "\n",
    "x = np.array([p[0] for p in omma_points])\n",
    "y = np.array([p[1] for p in omma_points])\n",
    "\n",
    "coeffs = np.polyfit(x, y, 2)\n",
    "curve = np.poly1d(coeffs)\n",
    "# plot the closed curve \n",
    "xp = np.linspace(x[0], x[-1], 1000)\n",
    "plt.plot(xp, curve(xp))\n",
    "plt.scatter(x,y)\n",
    "plt.show()"
   ]
  },
  {
   "attachments": {},
   "cell_type": "markdown",
   "metadata": {},
   "source": [
    "## Sampling Radius of Curvature(estimated by circle fitting)"
   ]
  },
  {
   "cell_type": "code",
   "execution_count": 152,
   "metadata": {},
   "outputs": [
    {
     "name": "stderr",
     "output_type": "stream",
     "text": [
      "100%|██████████| 10000/10000 [00:05<00:00, 1944.49it/s]\n"
     ]
    }
   ],
   "source": [
    "# parameters can be tuned:\n",
    "# num_omma(5): number of sampling ommatidia; choose smaller number if the eye is small\n",
    "# number of iteration(10000): sample size  \n",
    "# omma_diameter_pixel: ommatidia diameter measured in pixels \n",
    "# threshold of sse(10): lower threshold means the polynomial regression(k=2)\n",
    "#                   can capture the poistion of ommatidia more correctly\n",
    "\n",
    "from tqdm import tqdm\n",
    "radius_curvature_list = []\n",
    "radius_list = []\n",
    "\n",
    "for i in tqdm(range(10000)):\n",
    "    num_omma = 8\n",
    "    omma_diameter_pixel = 30\n",
    "    upper_bound = int(np.ceil(omma_diameter_pixel*num_omma))\n",
    "    new_coords = coords[:-abs(upper_bound)]\n",
    "    start = random.choice(new_coords)\n",
    "\n",
    "    omma_points = []\n",
    "    current_omma = start\n",
    "    new_coords_omma = coords.copy()\n",
    "    current_index = np.where((new_coords_omma == current_omma).all(axis=1))[0][0]\n",
    "\n",
    "    i = 0 \n",
    "    while i < num_omma:\n",
    "        i += 1\n",
    "        current_index, next_omma = find_point_on_line(new_coords_omma, omma_diameter_pixel, current_omma, current_index)\n",
    "        #print(current_index)\n",
    "        new_coords_omma = np.insert(new_coords_omma, current_index - 1, next_omma, axis = 0)\n",
    "        omma_points.append(next_omma)\n",
    "        current_omma = next_omma\n",
    "    \n",
    "    x = np.array([p[0] for p in omma_points])\n",
    "    xp = np.linspace(x[0], x[-1], 8)\n",
    "    y = np.array([p[1] for p in omma_points])\n",
    "\n",
    "    coeffs = np.polyfit(x, y, 2)\n",
    "    y_fit = np.polyval(coeffs, x)\n",
    "    sse = np.sum((y_fit - y)**2)\n",
    "\n",
    "    if sse > 10:\n",
    "        continue \n",
    "    else:\n",
    "        poly_curve = np.poly1d(coeffs)\n",
    "        #circle_fit = ls_circle(xp,poly_curve(xp))\n",
    "        circle_fit = ls_circle(x,y)\n",
    "        radius_list.append(circle_fit[2]) \n",
    "        # deriv1 = poly_curve.deriv()\n",
    "        # deriv2 = deriv1.deriv()\n",
    "        # radius = ((1 + deriv1(xp)**2)**1.5) / abs(deriv2(xp))\n",
    "        # print(radius)\n",
    "        # radius_curvature_list.append(radius)\n"
   ]
  },
  {
   "cell_type": "code",
   "execution_count": 153,
   "metadata": {},
   "outputs": [],
   "source": [
    "# exclude outliers \n",
    "if not isinstance(radius_list, np.ndarray):\n",
    "    radius_list = np.array(radius_list, dtype=float)\n",
    "threshold = 2  # threshold for Z-score method\n",
    "\n",
    "mean = np.mean(radius_list)\n",
    "std = np.std(radius_list)\n",
    "z_scores = np.abs((radius_list - mean) / std)\n",
    "filtered_data = radius_list[z_scores < threshold]\n",
    "filtered_data = filtered_data[filtered_data<2000]"
   ]
  },
  {
   "cell_type": "code",
   "execution_count": 154,
   "metadata": {},
   "outputs": [],
   "source": [
    "from scipy import stats\n",
    "from scipy.stats import mode"
   ]
  },
  {
   "cell_type": "code",
   "execution_count": 155,
   "metadata": {},
   "outputs": [
    {
     "data": {
      "image/png": "[encoded data removed]",
      "text/plain": [
       "<Figure size 640x480 with 1 Axes>"
      ]
     },
     "metadata": {},
     "output_type": "display_data"
    }
   ],
   "source": [
    "plt.hist(filtered_data,edgecolor='black', color='#69b3a2', bins = 40)\n",
    "plt.style.use('ggplot')\n",
    "# plt.figure(figsize=(8,6))\n",
    "plot_mean = np.mean(filtered_data)\n",
    "plot_mode = mode(filtered_data.astype(int),keepdims=True)[0][0]\n",
    "plt.axvline(plot_mean, color='red', linestyle='--', linewidth=2)\n",
    "plt.axvline(plot_mode, color='blue', linestyle='--', linewidth=2)\n",
    "# plt.text(x=plot_mean+5, y=120, s=f'Mean={plot_mean:.4f}', fontdict=dict(color='red', size=10))\n",
    "# plt.text(x=plot_mode+5, y=300, s=f'Mode={plot_mode:.1f}', fontdict=dict(color='blue', size=10))\n",
    "plt.legend(['Mean','Mode'])\n",
    "plt.xlabel('Radius of Curvature(pixel)')\n",
    "plt.ylabel('Frequency')\n",
    "\n",
    "plt.show()\n"
   ]
  },
  {
   "cell_type": "code",
   "execution_count": 156,
   "metadata": {},
   "outputs": [
    {
     "name": "stdout",
     "output_type": "stream",
     "text": [
      "The 95% confidence interval of radius of curvature is:\n"
     ]
    },
    {
     "data": {
      "text/plain": [
       "(907.7625513571302, 920.3692986334236)"
      ]
     },
     "execution_count": 156,
     "metadata": {},
     "output_type": "execute_result"
    }
   ],
   "source": [
    "# confidence interval with larger sample(n>30)\n",
    "import numpy as np\n",
    "import scipy.stats as st\n",
    "\n",
    "print(\"The 95% confidence interval of radius of curvature is:\")\n",
    "st.norm.interval(confidence=0.95, loc=np.mean(filtered_data), scale=st.sem(filtered_data))"
   ]
  },
  {
   "attachments": {},
   "cell_type": "markdown",
   "metadata": {},
   "source": [
    "## Sampling Interommatidial Angles\n",
    "\n",
    "Problems:\n",
    "1. slow algorithm to find two points with fixed distance on curve(need help)"
   ]
  },
  {
   "cell_type": "code",
   "execution_count": 157,
   "metadata": {},
   "outputs": [],
   "source": [
    "\n",
    "def find_x2(arc_length, x1, integrand):\n",
    "    # Integrate the integrand over the interval from x1 to x2 to get the arc length\n",
    "    x2 = x1  # Initialize x2 to be x1\n",
    "    #print(x1)\n",
    "    arc_length_temp = 0.0\n",
    "    \n",
    "    while arc_length_temp < arc_length:\n",
    "        x2 += 1 \n",
    "        arc_length_temp, _ = quad(integrand, x1, x2)\n",
    "        \n",
    "    while arc_length_temp > arc_length:\n",
    "        x2 -= 0.003\n",
    "        arc_length_temp, _ = quad(integrand, x1, x2)\n",
    "            \n",
    "    return x2"
   ]
  },
  {
   "attachments": {},
   "cell_type": "markdown",
   "metadata": {},
   "source": [
    "Able to achieve accuracy after 2 decimal points"
   ]
  },
  {
   "cell_type": "code",
   "execution_count": 132,
   "metadata": {},
   "outputs": [
    {
     "name": "stdout",
     "output_type": "stream",
     "text": [
      "Running time: 0.003997087478637695 seconds\n",
      "15.372455556063672\n"
     ]
    }
   ],
   "source": [
    "import time\n",
    "\n",
    "start_time = time.time()\n",
    "\n",
    "dp_dx = poly_curve.deriv()\n",
    "def integrand_test(x):\n",
    "    return np.sqrt(1 + dp_dx(x)**2)\n",
    "\n",
    "x_omma1 = np.random.uniform(xp[0],xp[-1])\n",
    "y_omma1 = poly_curve(x_omma1)\n",
    "\n",
    "arc_length = 15.3761\n",
    "x_omma2 = find_x2(arc_length, x_omma1, integrand_test)\n",
    "arc_length, _ = quad(integrand_test, x_omma1, x_omma2)\n",
    "\n",
    "end_time = time.time()\n",
    "running_time = end_time - start_time\n",
    "print(\"Running time:\", running_time, \"seconds\")\n",
    "print(arc_length)"
   ]
  },
  {
   "cell_type": "code",
   "execution_count": 158,
   "metadata": {},
   "outputs": [
    {
     "name": "stderr",
     "output_type": "stream",
     "text": [
      "100%|██████████| 100/100 [00:13<00:00,  7.53it/s]\n"
     ]
    }
   ],
   "source": [
    "angle_list = []\n",
    "\n",
    "for i in tqdm(range(100)):\n",
    "    # change number of omma and omma diameter here to sample\n",
    "    # good polynomial regression\n",
    "    num_omma = 6\n",
    "    omma_diameter_pixel = 40\n",
    "    upper_bound = int(np.ceil(omma_diameter_pixel*num_omma))\n",
    "    new_coords = coords[:-abs(upper_bound)]\n",
    "    start = random.choice(new_coords)\n",
    "\n",
    "    omma_points = []\n",
    "    current_omma = start\n",
    "    new_coords_omma = coords.copy()\n",
    "    current_index = np.where((new_coords_omma == current_omma).all(axis=1))[0][0]\n",
    "\n",
    "    i = 0 \n",
    "    while i < num_omma:\n",
    "        i += 1\n",
    "        current_index, next_omma = find_point_on_line(new_coords_omma, omma_diameter_pixel, current_omma, current_index)\n",
    "        new_coords_omma = np.insert(new_coords_omma, current_index - 1, next_omma, axis = 0)\n",
    "        omma_points.append(next_omma)\n",
    "        current_omma = next_omma\n",
    "    \n",
    "    x = np.array([p[0] for p in omma_points])\n",
    "    xp = np.linspace(x[0], x[-1], 1000)\n",
    "    y = np.array([p[1] for p in omma_points])\n",
    "\n",
    "    coeffs = np.polyfit(x, y, 2)\n",
    "    y_fit = np.polyval(coeffs, x)\n",
    "    sse = np.sum((y_fit - y)**2)\n",
    "\n",
    "    if sse > 10:\n",
    "        continue \n",
    "    else:\n",
    "        poly_curve = np.poly1d(coeffs)\n",
    "        deriv1 = poly_curve.deriv()\n",
    "\n",
    "        def integrand(x):\n",
    "            return np.sqrt(1 + deriv1(x)**2) \n",
    "        \n",
    "        for i in range(30):\n",
    "            x_omma1 = np.random.uniform(xp[0],xp[-1])\n",
    "            y_omma1 = poly_curve(x_omma1)\n",
    "    \n",
    "            arc_length = 0.0215/0.00117\n",
    "            x_omma2 = find_x2(arc_length, x_omma1, integrand)\n",
    "            if x_omma2 > xp[-1]:\n",
    "                continue\n",
    "\n",
    "            y_omma2 = poly_curve(x_omma2)\n",
    "            d1 = deriv1(x_omma1)\n",
    "            d2 = deriv1(x_omma2)\n",
    "            m1 = -1/d1\n",
    "            b1 = y_omma1 - m1 * x_omma1\n",
    "            m2 = -1/d2\n",
    "            b2 = y_omma2 - m2 * x_omma2\n",
    "            x_intersect = (b2 - b1) / (m1 - m2)\n",
    "            y_intersect = m1 * x_intersect + b1\n",
    "\n",
    "            angle = np.arctan(abs((m2 - m1) / (1 + m1 * m2)))\n",
    "            #print(angle)\n",
    "            angle_list.append(angle)       "
   ]
  },
  {
   "cell_type": "code",
   "execution_count": 159,
   "metadata": {},
   "outputs": [
    {
     "data": {
      "image/png": "[encoded data removed]",
      "text/plain": [
       "<Figure size 640x480 with 1 Axes>"
      ]
     },
     "metadata": {},
     "output_type": "display_data"
    }
   ],
   "source": [
    "plt.hist(angle_list,edgecolor='black', color='#69b3a2', bins = 40)\n",
    "plt.style.use('ggplot')\n",
    "# plt.figure(figsize=(8,6))\n",
    "plot_mean = np.mean(angle_list)\n",
    "#plot_mode = mode(np.array(angle_list,dtype=float) , keepdims=True)[0][0]\n",
    "plt.axvline(plot_mean, color='red', linestyle='--', linewidth=2)\n",
    "#plt.axvline(plot_mode, color='blue', linestyle='--', linewidth=2)\n",
    "plt.text(x=plot_mean+0.001, y=12, s=f'Mean={plot_mean:.4f}', fontdict=dict(color='red', size=10))\n",
    "# plt.text(x=plot_mode+5, y=300, s=f'Mode={plot_mode:.1f}', fontdict=dict(color='blue', size=10))\n",
    "plt.legend(['Mean'])\n",
    "plt.xlabel('Interommatidial Angles')\n",
    "plt.ylabel('Frequency')\n",
    "\n",
    "plt.show()"
   ]
  }
 ],
 "metadata": {
  "kernelspec": {
   "display_name": "oda",
   "language": "python",
   "name": "python3"
  },
  "language_info": {
   "codemirror_mode": {
    "name": "ipython",
    "version": 3
   },
   "file_extension": ".py",
   "mimetype": "text/x-python",
   "name": "python",
   "nbconvert_exporter": "python",
   "pygments_lexer": "ipython3",
   "version": "3.9.16"
  },
  "orig_nbformat": 4
 },
 "nbformat": 4,
 "nbformat_minor": 2
}
