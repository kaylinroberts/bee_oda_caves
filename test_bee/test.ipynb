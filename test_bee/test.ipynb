{
 "cells": [
  {
   "cell_type": "code",
   "execution_count": 2,
   "metadata": {},
   "outputs": [],
   "source": [
    "import cv2\n",
    "import numpy as np"
   ]
  },
  {
   "cell_type": "code",
   "execution_count": 3,
   "metadata": {},
   "outputs": [],
   "source": [
    "# helper function\n",
    "\n",
    "def angle_between_3_points(pt1, pt2, pt3):\n",
    "    \"\"\"Calculate the angle between three points\"\"\"\n",
    "    \n",
    "    pt1 = np.array(pt1)\n",
    "    pt2 = np.array(pt2)\n",
    "    pt3 = np.array(pt3)\n",
    "    \n",
    "    v1 = pt1 - pt2\n",
    "    v2 = pt3 - pt2\n",
    "    \n",
    "    dot_product = np.dot(v1, v2)\n",
    "    norm_v1 = np.linalg.norm(v1)\n",
    "    norm_v2 = np.linalg.norm(v2)\n",
    "    angle = np.arccos(dot_product / (norm_v1 * norm_v2))\n",
    "    \n",
    "    angle_degrees = np.degrees(angle)\n",
    "    \n",
    "    return angle_degrees\n",
    "\n",
    "def calculate_slope(point1, point2):\n",
    "    x1, y1 = point1\n",
    "    x2, y2 = point2\n",
    "    return (y2 - y1) / (x2 - x1)"
   ]
  },
  {
   "cell_type": "code",
   "execution_count": 6,
   "metadata": {},
   "outputs": [],
   "source": [
    "import cv2\n",
    "import numpy as np\n",
    "\n",
    "def find_closest_point(p1, p2, contour):\n",
    "    # convert points to numpy array\n",
    "    p1 = np.array(p1)\n",
    "    p2 = np.array(p2)\n",
    "\n",
    "    # calculate the line parameters\n",
    "    line_direction = p2 - p1\n",
    "    line_length = np.linalg.norm(line_direction)\n",
    "    if line_length == 0:\n",
    "        return None, None  # points coincide, no line to search\n",
    "    line_direction = line_direction / line_length\n",
    "    line_normal = np.array([-line_direction[1], line_direction[0]])\n",
    "\n",
    "    # initialize minimum distance and closest point\n",
    "    min_distance = np.inf\n",
    "    closest_point = None\n",
    "    closest_point_index = None\n",
    "\n",
    "    # iterate over all contour points\n",
    "    for i in range(len(contour)):\n",
    "        point = contour[i]\n",
    "        # calculate the distance from the point to the line\n",
    "        pt_to_p1 = point[0] - p1\n",
    "        pt_to_p2 = point[0] - p2\n",
    "        projection = np.dot(pt_to_p1, line_direction) * line_direction\n",
    "        perpendicular = pt_to_p1 - projection\n",
    "        distance = np.linalg.norm(perpendicular)\n",
    "        \n",
    "        dot_product = np.dot(pt_to_p1, pt_to_p2)\n",
    "        if dot_product > 0:\n",
    "            continue\n",
    "\n",
    "        # if the distance is smaller than the current minimum distance, update the closest point\n",
    "        if distance < min_distance:\n",
    "            min_distance = distance\n",
    "            closest_point = point[0]\n",
    "            closest_point_index = i\n",
    "            \n",
    "    return closest_point, closest_point_index\n"
   ]
  },
  {
   "attachments": {},
   "cell_type": "markdown",
   "metadata": {},
   "source": [
    "1. find and draw contours"
   ]
  },
  {
   "cell_type": "code",
   "execution_count": 4,
   "metadata": {},
   "outputs": [],
   "source": [
    "mask = cv2.imread('created_masks/UCSB-IZC00046621_5x_hef_lg/eyes.png'\n",
    "                  , cv2.IMREAD_GRAYSCALE)\n",
    "ret, thresh = cv2.threshold(mask, 127, 255, cv2.THRESH_BINARY)\n",
    "\n",
    "contours, hierarchy = cv2.findContours(thresh, cv2.RETR_EXTERNAL, cv2.CHAIN_APPROX_NONE)"
   ]
  },
  {
   "attachments": {},
   "cell_type": "markdown",
   "metadata": {},
   "source": [
    "### filter the contour points\n",
    "\n",
    "to do: \n",
    "1. how to select the curve based on bounding box and centroid\n",
    "2. complete and smooth the selected curve"
   ]
  },
  {
   "cell_type": "code",
   "execution_count": 7,
   "metadata": {},
   "outputs": [
    {
     "name": "stdout",
     "output_type": "stream",
     "text": [
      "133.44641634986323\n"
     ]
    }
   ],
   "source": [
    "cnt = contours[0]\n",
    "canvas = np.zeros_like(mask)\n",
    "canvas.fill(255)\n",
    "canvas = cv2.cvtColor(canvas, cv2.COLOR_GRAY2BGR)\n",
    "cv2.drawContours(canvas, cnt, -1, (0, 255, 0), 5)\n",
    "\n",
    "# find the bounding box of the contour \n",
    "rect = cv2.minAreaRect(cnt)\n",
    "box = cv2.boxPoints(rect)\n",
    "box = np.int0(box)\n",
    "left_box_center = ((box[0][0] + box[1][0])//2, (box[0][1] + box[1][1])//2)\n",
    "\n",
    "cv2.drawContours(canvas,[box],0,(0,255,),5)\n",
    "\n",
    "M = cv2.moments(cnt)\n",
    "cx = int(M['m10']/M['m00'])\n",
    "cy = int(M['m01']/M['m00'])\n",
    "centroid_point = (cx,cy)\n",
    "cv2.circle(canvas, (cx, cy), radius=20, color=(0, 0, 255), thickness=-1)\n",
    "\n",
    "point1, index1= find_closest_point(centroid_point, tuple(box[2]), cnt)\n",
    "point2, index2 = find_closest_point(centroid_point, tuple(box[3]), cnt)\n",
    "\n",
    "direction = \"right\"\n",
    "if direction == \"right\":\n",
    "    cv2.line(canvas, left_box_center, tuple(box[2]), color=(255, 255, 0), thickness=2, lineType=cv2.LINE_AA, shift=0)\n",
    "    cv2.line(canvas, left_box_center, tuple(box[3]), color=(255, 255, 0), thickness=2, lineType=cv2.LINE_AA, shift=0)\n",
    "    cv2.circle(canvas, tuple(point1), 20, (255, 0, 0), -1)\n",
    "    cv2.circle(canvas, tuple(point2), 20, (255, 0, 0), -1)\n",
    "    print(angle_between_3_points(box[2], centroid_point, box[3]))\n",
    "\n",
    "line_contour = np.array([left_box_center, tuple(box[2])]).reshape((-1, 1, 2)).astype(np.int32)\n",
    "\n",
    "\n",
    "## find the intersection between the contour and the line\n",
    "\n",
    "# for i in range(len(cnt)):\n",
    "#         pt = tuple(cnt[i][0])\n",
    "#         dist = cv2.pointPolygonTest(cnt, pt, True)\n",
    "#         if dist == 0:\n",
    "#             print(\"Intersection found at point:\", pt)\n",
    "\n",
    "# intersection between lines and contours(many points)\n",
    "\n",
    "\n",
    "cv2.namedWindow(\"binary\", cv2.WINDOW_NORMAL)\n",
    "cv2.imshow('binary', canvas)\n",
    "cv2.waitKey(0)\n",
    "cv2.destroyAllWindows()\n",
    "\n"
   ]
  },
  {
   "cell_type": "code",
   "execution_count": 11,
   "metadata": {},
   "outputs": [],
   "source": [
    "## segment the contour \n",
    "index = np.sort([index1, index2])\n",
    "segments = np.split(cnt, index)[1]"
   ]
  },
  {
   "cell_type": "code",
   "execution_count": 12,
   "metadata": {},
   "outputs": [],
   "source": [
    "canvas = np.zeros_like(mask)\n",
    "canvas.fill(255)\n",
    "canvas = cv2.cvtColor(canvas, cv2.COLOR_GRAY2BGR)\n",
    "cv2.drawContours(canvas, segments, -1, (0, 255, 0), 5)\n",
    "\n",
    "cv2.namedWindow(\"binary\", cv2.WINDOW_NORMAL)\n",
    "cv2.imshow('binary', canvas)\n",
    "cv2.waitKey(0)\n",
    "cv2.destroyAllWindows()\n"
   ]
  },
  {
   "cell_type": "code",
   "execution_count": 16,
   "metadata": {},
   "outputs": [
    {
     "data": {
      "image/png": "[encoded data removed]",
      "text/plain": [
       "<Figure size 640x480 with 1 Axes>"
      ]
     },
     "metadata": {},
     "output_type": "display_data"
    }
   ],
   "source": [
    "# project contours into R^2 \n",
    "import matplotlib.pyplot as plt\n",
    "from scipy.spatial import distance\n",
    "\n",
    "coords = segments.reshape((len(segments), 2))\n",
    "x_values = [coord[0] for coord in coords]\n",
    "y_values = [coord[1] for coord in coords]\n",
    "\n",
    "plt.xlim(3000, 6000)\n",
    "plt.ylim(1000, 3000)\n",
    "plt.scatter(x_values, y_values, s=1)\n",
    "plt.show()\n"
   ]
  },
  {
   "cell_type": "code",
   "execution_count": 15,
   "metadata": {},
   "outputs": [
    {
     "name": "stdout",
     "output_type": "stream",
     "text": [
      "[1.0, 1.4142135623730951]\n"
     ]
    },
    {
     "data": {
      "text/plain": [
       "(1128, 2)"
      ]
     },
     "execution_count": 15,
     "metadata": {},
     "output_type": "execute_result"
    }
   ],
   "source": [
    "# distance between adjacent points in the contour\n",
    "distances = [distance.euclidean(coords[i], coords[i+1]) for i in range(len(coords)-1)]\n",
    "print(list(set(distances)))\n",
    "coords.shape"
   ]
  },
  {
   "cell_type": "code",
   "execution_count": 324,
   "metadata": {},
   "outputs": [],
   "source": [
    "import math\n",
    "\n",
    "def find_point_on_line(points, total_distance, start_point, start_index):\n",
    "    accumulated_distance = 0\n",
    "    current_point = start_point\n",
    "    \n",
    "    \n",
    "    for i in range(start_index+1, len(points)):\n",
    "        distance = math.sqrt((points[i][0] - current_point[0])**2 + (points[i][1] - current_point[1])**2)\n",
    "        if accumulated_distance + distance >= total_distance:\n",
    "            update_index = i\n",
    "            remaining_distance = total_distance - accumulated_distance\n",
    "            proportion = remaining_distance / distance\n",
    "            x = current_point[0] + (points[i][0] - current_point[0]) * proportion\n",
    "            y = current_point[1] + (points[i][1] - current_point[1]) * proportion\n",
    "            #print(accumulated_distance)\n",
    "            return update_index, [x, y]\n",
    "        else:\n",
    "            accumulated_distance += distance\n",
    "            current_point = points[i]\n",
    "    \n",
    "    # If we reach the end of the array, return the last point\n",
    "    return points[-1]\n"
   ]
  },
  {
   "cell_type": "code",
   "execution_count": 388,
   "metadata": {},
   "outputs": [],
   "source": [
    "import random\n",
    "\n",
    "# sample size \n",
    "num_omma = 5\n",
    "omma_diameter_pixel = 15.88732\n",
    "# make sure no out of range\n",
    "upper_bound = int(np.ceil(omma_diameter_pixel*num_omma))\n",
    "new_coords = coords[:-abs(upper_bound)]\n",
    "start = random.choice(new_coords)"
   ]
  },
  {
   "cell_type": "code",
   "execution_count": 389,
   "metadata": {},
   "outputs": [],
   "source": [
    "# problem with updating current_index\n",
    "omma_points = []\n",
    "current_omma = start\n",
    "new_coords_omma = coords.copy()\n",
    "current_index = np.where((new_coords_omma == current_omma).all(axis=1))[0][0]\n",
    "\n",
    "i = 0 \n",
    "while i < num_omma:\n",
    "    i += 1\n",
    "    current_index, next_omma = find_point_on_line(new_coords_omma, omma_diameter_pixel, current_omma, current_index)\n",
    "    #print(current_index)\n",
    "    new_coords_omma = np.insert(new_coords_omma, current_index - 1, next_omma, axis = 0)\n",
    "    omma_points.append(next_omma)\n",
    "    current_omma = next_omma\n",
    "    \n"
   ]
  },
  {
   "cell_type": "code",
   "execution_count": 390,
   "metadata": {},
   "outputs": [
    {
     "data": {
      "text/plain": [
       "[[4353.0, 1954.526893562373],\n",
       " [4353.254859978165, 1938.7451400218351],\n",
       " [4355.0, 1924.1664671247463],\n",
       " [4358.0, 1910.6933606871194],\n",
       " [4358.0, 1894.8060406871193]]"
      ]
     },
     "execution_count": 390,
     "metadata": {},
     "output_type": "execute_result"
    }
   ],
   "source": [
    "omma_points"
   ]
  },
  {
   "cell_type": "code",
   "execution_count": 391,
   "metadata": {},
   "outputs": [
    {
     "data": {
      "text/plain": [
       "[15.783811276835243,\n",
       " 14.682752369229803,\n",
       " 13.803064771260928,\n",
       " 15.887320000000045]"
      ]
     },
     "execution_count": 391,
     "metadata": {},
     "output_type": "execute_result"
    }
   ],
   "source": [
    "[distance.euclidean(omma_points[i], omma_points[i+1]) for i in range(len(omma_points)-1)]"
   ]
  },
  {
   "cell_type": "code",
   "execution_count": 385,
   "metadata": {},
   "outputs": [
    {
     "data": {
      "text/plain": [
       "poly1d([ 2.01392861e-01, -2.63002644e+03,  1.14486542e+07, -1.66121940e+10])"
      ]
     },
     "execution_count": 385,
     "metadata": {},
     "output_type": "execute_result"
    }
   ],
   "source": [
    "curve"
   ]
  },
  {
   "cell_type": "code",
   "execution_count": 392,
   "metadata": {},
   "outputs": [
    {
     "data": {
      "image/png": "[encoded data removed]",
      "text/plain": [
       "<Figure size 640x480 with 1 Axes>"
      ]
     },
     "metadata": {},
     "output_type": "display_data"
    }
   ],
   "source": [
    "# fit the sampled points to a polynomial regression\n",
    "from scipy.optimize import curve_fit\n",
    "\n",
    "# def quadratic(x, a, b, c):\n",
    "#     return a * x**2 + b * x + c\n",
    "\n",
    "x = np.array([p[0] for p in omma_points])\n",
    "y = np.array([p[1] for p in omma_points])\n",
    "\n",
    "coeffs = np.polyfit(x, y, 2)\n",
    "curve = np.poly1d(coeffs)\n",
    "# plot the closed curve \n",
    "\n",
    "xp = np.linspace(x[0], x[-1], 1000)\n",
    "plt.plot(xp, curve(xp))\n",
    "plt.scatter(x,y)\n",
    "plt.show()"
   ]
  },
  {
   "attachments": {},
   "cell_type": "markdown",
   "metadata": {},
   "source": [
    "### Interommatidial Angles"
   ]
  },
  {
   "cell_type": "code",
   "execution_count": 375,
   "metadata": {},
   "outputs": [
    {
     "data": {
      "text/plain": [
       "1985.3561894730665"
      ]
     },
     "execution_count": 375,
     "metadata": {},
     "output_type": "execute_result"
    }
   ],
   "source": [
    "xp[0]\n",
    "curve(xp[0])"
   ]
  },
  {
   "attachments": {},
   "cell_type": "markdown",
   "metadata": {},
   "source": [
    "### Radius of Curvature Formula\n",
    "$$R = \\frac{(1+(\\frac{dy}{dx})^2)^{3/2}}{\\|\\frac{d^2 y}{dx}\\|}$$"
   ]
  },
  {
   "cell_type": "code",
   "execution_count": 374,
   "metadata": {},
   "outputs": [
    {
     "data": {
      "image/png": "[encoded data removed]",
      "text/plain": [
       "<Figure size 640x480 with 1 Axes>"
      ]
     },
     "metadata": {},
     "output_type": "display_data"
    }
   ],
   "source": [
    "radii_list = []\n",
    "for i in range(10000):\n",
    "    x_radius = random.choice(xp) \n",
    "    radius = ((1 + deriv1(x_radius)**2)**1.5) / abs(deriv2(x_radius))\n",
    "    radii_list.append(radius)\n",
    "\n",
    "plt.hist(radii_list, bins=10)\n",
    "\n",
    "# Add labels and title\n",
    "plt.xlabel('radius of curvature R')\n",
    "plt.ylabel('Frequency')\n",
    "plt.title('Histogram of sampled radius of curvature')\n",
    "\n",
    "# Show the plot\n",
    "plt.show()"
   ]
  },
  {
   "attachments": {},
   "cell_type": "markdown",
   "metadata": {},
   "source": [
    "### Circle Fitting"
   ]
  },
  {
   "cell_type": "code",
   "execution_count": 327,
   "metadata": {},
   "outputs": [],
   "source": [
    "def ls_circle(xx,yy):\n",
    "   asize = np.size(xx)\n",
    "   #print('Circle input size is ' + str(asize))\n",
    "   J=np.zeros((asize,3))\n",
    "   ABC=np.zeros(asize)\n",
    "   K=np.zeros(asize)\n",
    "\n",
    "   for ix in range(0,asize):\n",
    "      x=xx[ix]\n",
    "      y=yy[ix]\n",
    "\n",
    "      J[ix,0]=x*x + y*y;\n",
    "      J[ix,1]=x;\n",
    "      J[ix,2]=y;\n",
    "      K[ix]=1.0\n",
    "\n",
    "   K=K.transpose()\n",
    "   JT=J.transpose()\n",
    "   JTJ = np.dot(JT,J)\n",
    "   InvJTJ=np.linalg.inv(JTJ);\n",
    "\n",
    "   ABC= np.dot(InvJTJ, np.dot(JT,K))\n",
    "   #If A is negative, R will be negative\n",
    "   A=ABC[0]\n",
    "   B=ABC[1]\n",
    "   C=ABC[2]\n",
    "\n",
    "   xofs=-B/(2*A)\n",
    "   yofs=-C/(2*A)\n",
    "   R=np.sqrt(4*A + B*B + C*C)/(2*A)\n",
    "   if R < 0.0: R = -R\n",
    "   return (xofs,yofs,R)"
   ]
  },
  {
   "cell_type": "code",
   "execution_count": 315,
   "metadata": {},
   "outputs": [
    {
     "name": "stdout",
     "output_type": "stream",
     "text": [
      "Circle input size is 5\n"
     ]
    }
   ],
   "source": [
    "x = np.array([p[0] for p in omma_points])\n",
    "y = np.array([p[1] for p in omma_points])\n",
    "\n",
    "circle_fit = ls_circle(x,y)"
   ]
  },
  {
   "cell_type": "code",
   "execution_count": 316,
   "metadata": {},
   "outputs": [
    {
     "name": "stdout",
     "output_type": "stream",
     "text": [
      "(4306.713858316776, 2407.720886947315, 112.08257508611165)\n"
     ]
    }
   ],
   "source": [
    "print(circle_fit)"
   ]
  },
  {
   "cell_type": "code",
   "execution_count": 317,
   "metadata": {},
   "outputs": [
    {
     "data": {
      "image/png": "[encoded data removed]",
      "text/plain": [
       "<Figure size 640x480 with 1 Axes>"
      ]
     },
     "metadata": {},
     "output_type": "display_data"
    }
   ],
   "source": [
    "xp = np.linspace(x[0], x[-1], 100)\n",
    "plt.plot(xp, curve(xp))\n",
    "plt.scatter(circle_fit[0], circle_fit[1], color = \"red\")\n",
    "plt.show()"
   ]
  },
  {
   "cell_type": "code",
   "execution_count": 360,
   "metadata": {},
   "outputs": [
    {
     "name": "stderr",
     "output_type": "stream",
     "text": [
      "C:\\Users\\33433\\AppData\\Local\\Temp\\ipykernel_37212\\1152037251.py:28: RuntimeWarning: divide by zero encountered in double_scalars\n",
      "  xofs=-B/(2*A)\n",
      "C:\\Users\\33433\\AppData\\Local\\Temp\\ipykernel_37212\\1152037251.py:29: RuntimeWarning: divide by zero encountered in double_scalars\n",
      "  yofs=-C/(2*A)\n",
      "C:\\Users\\33433\\AppData\\Local\\Temp\\ipykernel_37212\\1152037251.py:30: RuntimeWarning: divide by zero encountered in double_scalars\n",
      "  R=np.sqrt(4*A + B*B + C*C)/(2*A)\n",
      "C:\\Users\\33433\\AppData\\Local\\Temp\\ipykernel_37212\\1152037251.py:29: RuntimeWarning: invalid value encountered in double_scalars\n",
      "  yofs=-C/(2*A)\n"
     ]
    }
   ],
   "source": [
    "radius_curvature_list = []\n",
    "for i in range(10000):\n",
    "    num_omma = 3\n",
    "    omma_diameter_pixel = 15.88732\n",
    "    upper_bound = int(np.ceil(omma_diameter_pixel*num_omma))\n",
    "    new_coords = coords[:-abs(upper_bound)]\n",
    "    start = random.choice(new_coords)\n",
    "\n",
    "    omma_points = []\n",
    "    current_omma = start\n",
    "    new_coords_omma = coords.copy()\n",
    "    current_index = np.where((new_coords_omma == current_omma).all(axis=1))[0][0]\n",
    "\n",
    "    i = 0 \n",
    "    while i < num_omma:\n",
    "        i += 1\n",
    "        current_index, next_omma = find_point_on_line(new_coords_omma, omma_diameter_pixel, current_omma, current_index)\n",
    "        #print(current_index)\n",
    "        new_coords_omma = np.insert(new_coords_omma, current_index - 1, next_omma, axis = 0)\n",
    "        omma_points.append(next_omma)\n",
    "        current_omma = next_omma\n",
    "    \n",
    "    x = np.array([p[0] for p in omma_points])\n",
    "    y = np.array([p[1] for p in omma_points])\n",
    "\n",
    "    circle_fit = ls_circle(x,y)\n",
    "    radius_curvature_list.append(circle_fit[2])   "
   ]
  },
  {
   "cell_type": "code",
   "execution_count": 361,
   "metadata": {},
   "outputs": [
    {
     "data": {
      "image/png": "[encoded data removed]",
      "text/plain": [
       "<Figure size 640x480 with 1 Axes>"
      ]
     },
     "metadata": {},
     "output_type": "display_data"
    }
   ],
   "source": [
    "valid_values = [x for x in radius_curvature_list if np.isfinite(x)]\n",
    "\n",
    "plt.hist(valid_values, range=[min(valid_values), max(valid_values)])\n",
    "plt.show()"
   ]
  },
  {
   "cell_type": "code",
   "execution_count": 345,
   "metadata": {},
   "outputs": [
    {
     "data": {
      "text/plain": [
       "8069816583.997682"
      ]
     },
     "execution_count": 345,
     "metadata": {},
     "output_type": "execute_result"
    }
   ],
   "source": [
    "np.max(valid_values)"
   ]
  },
  {
   "cell_type": "code",
   "execution_count": 320,
   "metadata": {},
   "outputs": [],
   "source": [
    "# #from ODA import *\n",
    "# import cv2\n",
    "# from funcs import *\n",
    "# import csv\n",
    "# from analysis_tools import *\n",
    "\n",
    "\n",
    "# #  ommatidia N, mean, std, fft \n",
    "# img_info = input(\"Enter the image path: \\n\")\n",
    "# img_path = \"raw_images/\" + img_info\n",
    "\n",
    "\n",
    "# # Extracting org\n",
    "# org = img_info.split(\"-\")[0]\n",
    "# # Extracting bee_id\n",
    "# bee_id = img_info.split(\"-\")[1].split(\"_\")[0]\n",
    "# # Extracting zoom_ratio\n",
    "# zoom_ratio = img_info.split(\"_\")[1]\n",
    "\n",
    "\n",
    "# pixel_size = get_pixel_size_mm_test(img_path, extension = 300)"
   ]
  },
  {
   "cell_type": "code",
   "execution_count": 321,
   "metadata": {},
   "outputs": [],
   "source": [
    "#print(pixel_size)"
   ]
  }
 ],
 "metadata": {
  "kernelspec": {
   "display_name": "oda",
   "language": "python",
   "name": "python3"
  },
  "language_info": {
   "codemirror_mode": {
    "name": "ipython",
    "version": 3
   },
   "file_extension": ".py",
   "mimetype": "text/x-python",
   "name": "python",
   "nbconvert_exporter": "python",
   "pygments_lexer": "ipython3",
   "version": "3.9.16"
  },
  "orig_nbformat": 4
 },
 "nbformat": 4,
 "nbformat_minor": 2
}
