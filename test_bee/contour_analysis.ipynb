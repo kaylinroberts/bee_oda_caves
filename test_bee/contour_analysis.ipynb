{
 "cells": [
  {
   "cell_type": "code",
   "execution_count": 1,
   "metadata": {},
   "outputs": [],
   "source": [
    "import cv2\n",
    "import numpy as np\n",
    "from funcs import *"
   ]
  },
  {
   "cell_type": "code",
   "execution_count": 116,
   "metadata": {},
   "outputs": [],
   "source": [
    "mask = cv2.imread('created_masks/UCSB-IZC00046621_5x_hef_lg/eyes.png'\n",
    "                  , cv2.IMREAD_GRAYSCALE)\n",
    "ret, thresh = cv2.threshold(mask, 127, 255, cv2.THRESH_BINARY)\n",
    "\n",
    "contours, hierarchy = cv2.findContours(thresh, cv2.RETR_EXTERNAL, cv2.CHAIN_APPROX_NONE)"
   ]
  },
  {
   "attachments": {},
   "cell_type": "markdown",
   "metadata": {},
   "source": [
    "to do: how to determine the order of box"
   ]
  },
  {
   "cell_type": "code",
   "execution_count": 49,
   "metadata": {},
   "outputs": [],
   "source": [
    "def cart2pol(x, y):\n",
    "    theta = np.arctan2(y, x)\n",
    "    rho = np.hypot(x, y)\n",
    "    return theta, rho\n",
    "\n",
    "\n",
    "def pol2cart(theta, rho):\n",
    "    x = rho * np.cos(theta)\n",
    "    y = rho * np.sin(theta)\n",
    "    return x, y\n",
    "\n",
    "\n",
    "def rotate_contour(cnt, angle):\n",
    "    M = cv2.moments(cnt)\n",
    "    cx = int(M['m10']/M['m00'])\n",
    "    cy = int(M['m01']/M['m00'])\n",
    "\n",
    "    cnt_norm = cnt - [cx, cy]\n",
    "    \n",
    "    coordinates = cnt_norm[:, 0, :]\n",
    "    xs, ys = coordinates[:, 0], coordinates[:, 1]\n",
    "    thetas, rhos = cart2pol(xs, ys)\n",
    "    \n",
    "    thetas = np.rad2deg(thetas)\n",
    "    thetas = (thetas + angle) % 360\n",
    "    thetas = np.deg2rad(thetas)\n",
    "    \n",
    "    xs, ys = pol2cart(thetas, rhos)\n",
    "    \n",
    "    cnt_norm[:, 0, 0] = xs\n",
    "    cnt_norm[:, 0, 1] = ys\n",
    "\n",
    "    cnt_rotated = cnt_norm + [cx, cy]\n",
    "    cnt_rotated = cnt_rotated.astype(np.int32)\n",
    "\n",
    "    return cnt_rotated"
   ]
  },
  {
   "cell_type": "code",
   "execution_count": 109,
   "metadata": {},
   "outputs": [],
   "source": [
    "if angle1 > 45:\n",
    "    new_angle = 90-angle1\n",
    "else:\n",
    "    new_angle = -angle1\n",
    "\n",
    "rotated_cnt = rotate_contour(cnt, new_angle)\n",
    "canvas = np.zeros_like(mask)\n",
    "canvas.fill(255)\n",
    "canvas = cv2.cvtColor(canvas, cv2.COLOR_GRAY2BGR)\n",
    "cv2.drawContours(canvas, rotated_cnt, -1, (0, 255, 0), 5)\n",
    "\n",
    "cv2.namedWindow(\"binary\", cv2.WINDOW_NORMAL)\n",
    "cv2.imshow('binary', canvas)\n",
    "cv2.waitKey(0)\n",
    "cv2.destroyAllWindows()"
   ]
  },
  {
   "cell_type": "code",
   "execution_count": 114,
   "metadata": {},
   "outputs": [
    {
     "data": {
      "text/plain": [
       "83.22434997558594"
      ]
     },
     "execution_count": 114,
     "metadata": {},
     "output_type": "execute_result"
    }
   ],
   "source": [
    "angle1"
   ]
  },
  {
   "cell_type": "code",
   "execution_count": 118,
   "metadata": {},
   "outputs": [
    {
     "name": "stdout",
     "output_type": "stream",
     "text": [
      "133.44641634986323\n"
     ]
    }
   ],
   "source": [
    "cnt = contours[0]\n",
    "canvas = np.zeros_like(mask)\n",
    "canvas.fill(255)\n",
    "canvas = cv2.cvtColor(canvas, cv2.COLOR_GRAY2BGR)\n",
    "#cv2.drawContours(canvas, cnt, -1, (0, 255, 0), 5)\n",
    "\n",
    "# find the bounding box of the contour \n",
    "rect = cv2.minAreaRect(cnt)\n",
    "box = cv2.boxPoints(rect)\n",
    "box = np.int0(box)\n",
    "angle1 = rect[2]\n",
    "\n",
    "# is it left eye or right eye\n",
    "direction = \"right\"\n",
    "\n",
    "if angle1 > 45 and direction == \"left\":\n",
    "    # rotate the eye to make the following code works\n",
    "    cnt = rotate_contour(cnt, 90-angle1)\n",
    "    rect = cv2.minAreaRect(cnt)\n",
    "    box = cv2.boxPoints(rect)\n",
    "    box = np.int0(box)\n",
    "\n",
    "if angle1 > 45 and direction == \"right\":\n",
    "    # rotate the eye to make the following code works\n",
    "    cnt = rotate_contour(cnt, 90-angle1)\n",
    "    rect = cv2.minAreaRect(cnt)\n",
    "    box = cv2.boxPoints(rect)\n",
    "    box = np.int0(box)\n",
    "\n",
    "cv2.drawContours(canvas,[box],0,(0,255,),5)\n",
    "cv2.drawContours(canvas, cnt, -1, (0, 255, 0), 5)\n",
    "\n",
    "# find the centroid of the shape\n",
    "M = cv2.moments(cnt)\n",
    "cx = int(M['m10']/M['m00'])\n",
    "cy = int(M['m01']/M['m00'])\n",
    "centroid_point = (cx,cy)\n",
    "cv2.circle(canvas, (cx, cy), radius=20, color=(0, 0, 255), thickness=-1)\n",
    "\n",
    "\n",
    "if direction == \"right\":\n",
    "    sorted_indices = np.argsort(-box[:, 0])\n",
    "    right_two_indexes = sorted_indices[:2]\n",
    "    right_two_points = box[right_two_indexes]\n",
    "    right1 = right_two_points[0]\n",
    "    right2 = right_two_points[1]\n",
    "\n",
    "    point1, index1= find_closest_point(centroid_point, tuple(right1), cnt)\n",
    "    point2, index2 = find_closest_point(centroid_point, tuple(right2), cnt)\n",
    "    cv2.line(canvas, centroid_point, tuple(right1), color=(255, 255, 0), thickness=2, lineType=cv2.LINE_AA, shift=0)\n",
    "    cv2.line(canvas, centroid_point, tuple(right2), color=(255, 255, 0), thickness=2, lineType=cv2.LINE_AA, shift=0)\n",
    "    cv2.circle(canvas, tuple(point1), 20, (255, 0, 0), -1)\n",
    "    cv2.circle(canvas, tuple(point2), 20, (255, 0, 0), -1)\n",
    "    print(angle_between_3_points(right1, centroid_point, right2))\n",
    "\n",
    "if direction == \"left\":\n",
    "\n",
    "    sorted_indices = np.argsort(box[:, 0])\n",
    "    left_two_indexes = sorted_indices[:2]\n",
    "    left_two_points = box[left_two_indexes]\n",
    "    left1 = left_two_points[0]\n",
    "    left2 = left_two_points[1]\n",
    "\n",
    "    point1, index1= find_closest_point(centroid_point, tuple(left1), cnt)\n",
    "    point2, index2 = find_closest_point(centroid_point, tuple(left2), cnt)\n",
    "    cv2.line(canvas, centroid_point, tuple(left1), color=(255, 255, 0), thickness=2, lineType=cv2.LINE_AA, shift=0)\n",
    "    cv2.line(canvas, centroid_point, tuple(left2), color=(255, 255, 0), thickness=2, lineType=cv2.LINE_AA, shift=0)\n",
    "    cv2.circle(canvas, tuple(point1), 20, (255, 0, 0), -1)\n",
    "    cv2.circle(canvas, tuple(point2), 20, (255, 0, 0), -1)\n",
    "    print(angle_between_3_points(left1, centroid_point, left2))\n",
    "\n",
    "\n",
    "line_contour = np.array([centroid_point, tuple(box[2])]).reshape((-1, 1, 2)).astype(np.int32)\n",
    "\n",
    "cv2.namedWindow(\"binary\", cv2.WINDOW_NORMAL)\n",
    "cv2.imshow('binary', canvas)\n",
    "cv2.waitKey(0)\n",
    "cv2.destroyAllWindows()"
   ]
  },
  {
   "cell_type": "code",
   "execution_count": 5,
   "metadata": {},
   "outputs": [],
   "source": [
    "## segment the contour \n",
    "index = np.sort([index1, index2])\n",
    "segments = np.split(cnt, index)[1]"
   ]
  },
  {
   "cell_type": "code",
   "execution_count": 6,
   "metadata": {},
   "outputs": [],
   "source": [
    "canvas = np.zeros_like(mask)\n",
    "canvas.fill(255)\n",
    "canvas = cv2.cvtColor(canvas, cv2.COLOR_GRAY2BGR)\n",
    "cv2.drawContours(canvas, segments, -1, (0, 255, 0), 5)\n",
    "\n",
    "cv2.namedWindow(\"binary\", cv2.WINDOW_NORMAL)\n",
    "cv2.imshow('binary', canvas)\n",
    "cv2.waitKey(0)\n",
    "cv2.destroyAllWindows()\n"
   ]
  },
  {
   "cell_type": "code",
   "execution_count": 7,
   "metadata": {},
   "outputs": [
    {
     "data": {
      "image/png": "[encoded data removed]",
      "text/plain": [
       "<Figure size 640x480 with 1 Axes>"
      ]
     },
     "metadata": {},
     "output_type": "display_data"
    }
   ],
   "source": [
    "# project contours into R^2 \n",
    "import matplotlib.pyplot as plt\n",
    "from scipy.spatial import distance\n",
    "\n",
    "coords = segments.reshape((len(segments), 2))\n",
    "x_values = [coord[0] for coord in coords]\n",
    "y_values = [coord[1] for coord in coords]\n",
    "\n",
    "\n",
    "plt.scatter(x_values, y_values, s=1)\n",
    "plt.show()\n"
   ]
  },
  {
   "cell_type": "code",
   "execution_count": 8,
   "metadata": {},
   "outputs": [
    {
     "name": "stdout",
     "output_type": "stream",
     "text": [
      "[1.0, 1.4142135623730951]\n"
     ]
    },
    {
     "data": {
      "text/plain": [
       "(1128, 2)"
      ]
     },
     "execution_count": 8,
     "metadata": {},
     "output_type": "execute_result"
    }
   ],
   "source": [
    "# distance between adjacent points in the contour\n",
    "distances = [distance.euclidean(coords[i], coords[i+1]) for i in range(len(coords)-1)]\n",
    "print(list(set(distances)))\n",
    "coords.shape"
   ]
  },
  {
   "cell_type": "code",
   "execution_count": 167,
   "metadata": {},
   "outputs": [],
   "source": [
    "# import math\n",
    "\n",
    "# def find_point_on_line(points, total_distance, start_point, start_index):\n",
    "#     accumulated_distance = 0\n",
    "#     current_point = start_point\n",
    "    \n",
    "#     for i in range(start_index+1, len(points)):\n",
    "#         distance = math.sqrt((start_point[0] - current_point[0])**2 + (start_point[1] - current_point[1])**2)\n",
    "#         if distance >= total_distance:\n",
    "#             update_index = i\n",
    "#             remaining_distance = total_distance - accumulated_distance\n",
    "#             proportion = remaining_distance / distance\n",
    "#             x = current_point[0] + (points[i][0] - current_point[0]) * proportion\n",
    "#             y = current_point[1] + (points[i][1] - current_point[1]) * proportion\n",
    "#             #print(accumulated_distance)\n",
    "#             return update_index, [x, y]\n",
    "#         else:\n",
    "#             accumulated_distance += distance\n",
    "#             current_point = points[i]\n",
    "    \n",
    "#     # If we reach the end of the array, return the last point\n",
    "#     return points[-1]\n"
   ]
  },
  {
   "cell_type": "code",
   "execution_count": 375,
   "metadata": {},
   "outputs": [],
   "source": [
    "import math\n",
    "\n",
    "def find_point_on_line(points, total_distance, start_point, start_index):\n",
    "    accumulated_distance = 0\n",
    "    current_point = start_point\n",
    "    \n",
    "    \n",
    "    for i in range(start_index+1, len(points)):\n",
    "        distance = math.sqrt((points[i][0] - current_point[0])**2 + (points[i][1] - current_point[1])**2)\n",
    "        if accumulated_distance + distance >= total_distance:\n",
    "            update_index = i\n",
    "            remaining_distance = total_distance - accumulated_distance\n",
    "            proportion = remaining_distance / distance\n",
    "            x = current_point[0] + (points[i][0] - current_point[0]) * proportion\n",
    "            y = current_point[1] + (points[i][1] - current_point[1]) * proportion\n",
    "            #print(accumulated_distance)\n",
    "            return update_index, [x, y]\n",
    "        else:\n",
    "            accumulated_distance += distance\n",
    "            current_point = points[i]\n",
    "    \n",
    "    # If we reach the end of the array, return the last point\n",
    "    return points[-1]\n"
   ]
  },
  {
   "cell_type": "code",
   "execution_count": 409,
   "metadata": {},
   "outputs": [],
   "source": [
    "import random\n",
    "# sample size \n",
    "num_omma = 8\n",
    "omma_diameter_pixel = 25\n",
    "# make sure no out of range\n",
    "upper_bound = int(np.ceil(omma_diameter_pixel*num_omma))\n",
    "new_coords = coords[:-abs(upper_bound)]\n",
    "start = random.choice(new_coords)"
   ]
  },
  {
   "cell_type": "code",
   "execution_count": 410,
   "metadata": {},
   "outputs": [
    {
     "data": {
      "text/plain": [
       "25"
      ]
     },
     "execution_count": 410,
     "metadata": {},
     "output_type": "execute_result"
    }
   ],
   "source": [
    "omma_diameter_pixel"
   ]
  },
  {
   "cell_type": "code",
   "execution_count": 411,
   "metadata": {},
   "outputs": [],
   "source": [
    "# problem with updating current_index\n",
    "omma_points = []\n",
    "current_omma = start\n",
    "new_coords_omma = coords.copy()\n",
    "current_index = np.where((new_coords_omma == current_omma).all(axis=1))[0][0]\n",
    "\n",
    "i = 0 \n",
    "while i < num_omma:\n",
    "    i += 1\n",
    "    current_index, next_omma = find_point_on_line(new_coords_omma, omma_diameter_pixel, current_omma, current_index)\n",
    "    #print(current_index)\n",
    "    new_coords_omma = np.insert(new_coords_omma, current_index - 1, next_omma, axis = 0)\n",
    "    omma_points.append(next_omma)\n",
    "    current_omma = next_omma\n",
    "    "
   ]
  },
  {
   "cell_type": "code",
   "execution_count": 412,
   "metadata": {},
   "outputs": [
    {
     "data": {
      "text/plain": [
       "[[4320.828427124746, 2105.171572875254],\n",
       " [4327.0, 2085.0710678118658],\n",
       " [4332.0, 2063.899494936612],\n",
       " [4336.192388155425, 2041.8076118445751],\n",
       " [4341.0, 2020.5563491861044],\n",
       " [4346.0, 1999.3847763108506],\n",
       " [4350.786796564404, 1978.0],\n",
       " [4353.0, 1954.6274169979695]]"
      ]
     },
     "execution_count": 412,
     "metadata": {},
     "output_type": "execute_result"
    }
   ],
   "source": [
    "# coordninates of sampled ommatidia\n",
    "omma_points"
   ]
  },
  {
   "cell_type": "code",
   "execution_count": 413,
   "metadata": {},
   "outputs": [
    {
     "data": {
      "image/png": "[encoded data removed]",
      "text/plain": [
       "<Figure size 640x480 with 1 Axes>"
      ]
     },
     "metadata": {},
     "output_type": "display_data"
    }
   ],
   "source": [
    "# fit the sampled points to a polynomial regression\n",
    "from scipy.optimize import curve_fit\n",
    "\n",
    "\n",
    "x = np.array([p[0] for p in omma_points])\n",
    "y = np.array([p[1] for p in omma_points])\n",
    "\n",
    "coeffs = np.polyfit(x, y, 2)\n",
    "curve = np.poly1d(coeffs)\n",
    "# plot the closed curve \n",
    "xp = np.linspace(x[0], x[-1], 1000)\n",
    "plt.plot(xp, curve(xp))\n",
    "plt.scatter(x,y)\n",
    "plt.show()"
   ]
  },
  {
   "attachments": {},
   "cell_type": "markdown",
   "metadata": {},
   "source": [
    "### Sampling Radius of Curvature(estimated by circle fitting)"
   ]
  },
  {
   "cell_type": "code",
   "execution_count": 173,
   "metadata": {},
   "outputs": [],
   "source": [
    "def ls_circle(xx,yy):\n",
    "   asize = np.size(xx)\n",
    "   #print('Circle input size is ' + str(asize))\n",
    "   J=np.zeros((asize,3))\n",
    "   ABC=np.zeros(asize)\n",
    "   K=np.zeros(asize)\n",
    "\n",
    "   for ix in range(0,asize):\n",
    "      x=xx[ix]\n",
    "      y=yy[ix]\n",
    "\n",
    "      J[ix,0]=x*x + y*y;\n",
    "      J[ix,1]=x;\n",
    "      J[ix,2]=y;\n",
    "      K[ix]=1.0\n",
    "\n",
    "   K=K.transpose()\n",
    "   JT=J.transpose()\n",
    "   JTJ = np.dot(JT,J)\n",
    "   InvJTJ=np.linalg.inv(JTJ);\n",
    "\n",
    "   ABC= np.dot(InvJTJ, np.dot(JT,K))\n",
    "   #If A is negative, R will be negative\n",
    "   A=ABC[0]\n",
    "   B=ABC[1]\n",
    "   C=ABC[2]\n",
    "\n",
    "   xofs=-B/(2*A)\n",
    "   yofs=-C/(2*A)\n",
    "   R=np.sqrt(4*A + B*B + C*C)/(2*A)\n",
    "   if R < 0.0: R = -R\n",
    "   return (xofs,yofs,R)"
   ]
  },
  {
   "cell_type": "code",
   "execution_count": 420,
   "metadata": {},
   "outputs": [
    {
     "name": "stderr",
     "output_type": "stream",
     "text": [
      "100%|██████████| 10000/10000 [00:05<00:00, 1785.25it/s]\n"
     ]
    }
   ],
   "source": [
    "# parameters can be tuned:\n",
    "# num_omma(5): number of sampling ommatidia; choose smaller number if the eye is small\n",
    "# number of iteration(10000): sample size  \n",
    "# omma_diameter_pixel: ommatidia diameter measured in pixels \n",
    "# threshold of sse(10): lower threshold means the polynomial regression(k=2)\n",
    "#                   can capture the poistion of ommatidia more correctly\n",
    "\n",
    "from tqdm import tqdm\n",
    "radius_curvature_list = []\n",
    "radius_list = []\n",
    "\n",
    "for i in tqdm(range(10000)):\n",
    "    num_omma = 12\n",
    "    omma_diameter_pixel = 21\n",
    "    upper_bound = int(np.ceil(omma_diameter_pixel*num_omma))\n",
    "    new_coords = coords[:-abs(upper_bound)]\n",
    "    start = random.choice(new_coords)\n",
    "\n",
    "    omma_points = []\n",
    "    current_omma = start\n",
    "    new_coords_omma = coords.copy()\n",
    "    current_index = np.where((new_coords_omma == current_omma).all(axis=1))[0][0]\n",
    "\n",
    "    i = 0 \n",
    "    while i < num_omma:\n",
    "        i += 1\n",
    "        current_index, next_omma = find_point_on_line(new_coords_omma, omma_diameter_pixel, current_omma, current_index)\n",
    "        #print(current_index)\n",
    "        new_coords_omma = np.insert(new_coords_omma, current_index - 1, next_omma, axis = 0)\n",
    "        omma_points.append(next_omma)\n",
    "        current_omma = next_omma\n",
    "    \n",
    "    x = np.array([p[0] for p in omma_points])\n",
    "    xp = np.linspace(x[0], x[-1], 10)\n",
    "    y = np.array([p[1] for p in omma_points])\n",
    "\n",
    "    coeffs = np.polyfit(x, y, 2)\n",
    "    y_fit = np.polyval(coeffs, x)\n",
    "    sse = np.sum((y_fit - y)**2)\n",
    "\n",
    "    if sse > 10:\n",
    "        continue \n",
    "    else:\n",
    "        poly_curve = np.poly1d(coeffs)\n",
    "        circle_fit = ls_circle(xp,poly_curve(xp))\n",
    "        radius_list.append(circle_fit[2]) \n",
    "        # deriv1 = poly_curve.deriv()\n",
    "        # deriv2 = deriv1.deriv()\n",
    "        # radius = ((1 + deriv1(xp)**2)**1.5) / abs(deriv2(xp))\n",
    "        # print(radius)\n",
    "        # radius_curvature_list.append(radius)\n"
   ]
  },
  {
   "cell_type": "code",
   "execution_count": 421,
   "metadata": {},
   "outputs": [],
   "source": [
    "# exclude outliers \n",
    "if not isinstance(radius_list, np.ndarray):\n",
    "    radius_list = np.array(radius_list, dtype=float)\n",
    "threshold = 2  # threshold for Z-score method\n",
    "\n",
    "mean = np.mean(radius_list)\n",
    "std = np.std(radius_list)\n",
    "z_scores = np.abs((radius_list - mean) / std)\n",
    "filtered_data = radius_list[z_scores < threshold]"
   ]
  },
  {
   "cell_type": "code",
   "execution_count": 348,
   "metadata": {},
   "outputs": [],
   "source": [
    "from scipy import stats\n",
    "from scipy.stats import mode"
   ]
  },
  {
   "cell_type": "code",
   "execution_count": 422,
   "metadata": {},
   "outputs": [
    {
     "data": {
      "image/png": "[encoded data removed]",
      "text/plain": [
       "<Figure size 640x480 with 1 Axes>"
      ]
     },
     "metadata": {},
     "output_type": "display_data"
    }
   ],
   "source": [
    "plt.hist(filtered_data,edgecolor='black', color='#69b3a2', bins = 40)\n",
    "plt.style.use('ggplot')\n",
    "# plt.figure(figsize=(8,6))\n",
    "plot_mean = np.mean(filtered_data)\n",
    "plot_mode = mode(filtered_data.astype(int),keepdims=True)[0][0]\n",
    "plt.axvline(plot_mean, color='red', linestyle='--', linewidth=2)\n",
    "plt.axvline(plot_mode, color='blue', linestyle='--', linewidth=2)\n",
    "plt.text(x=plot_mean+5, y=120, s=f'Mean={plot_mean:.4f}', fontdict=dict(color='red', size=10))\n",
    "plt.text(x=plot_mode+5, y=300, s=f'Mode={plot_mode:.1f}', fontdict=dict(color='blue', size=10))\n",
    "plt.legend(['Mean'])\n",
    "plt.xlabel('Radius of Curvature(pixel)')\n",
    "plt.ylabel('Frequency')\n",
    "\n",
    "plt.show()\n"
   ]
  },
  {
   "cell_type": "code",
   "execution_count": 335,
   "metadata": {},
   "outputs": [
    {
     "data": {
      "text/plain": [
       "(532.4108746154216, 547.1274282112934)"
      ]
     },
     "execution_count": 335,
     "metadata": {},
     "output_type": "execute_result"
    }
   ],
   "source": [
    "# confidence interval with larger sample(n>30)\n",
    "import numpy as np\n",
    "import scipy.stats as st\n",
    "\n",
    "st.norm.interval(confidence=0.95, loc=np.mean(filtered_data), scale=st.sem(filtered_data))"
   ]
  },
  {
   "attachments": {},
   "cell_type": "markdown",
   "metadata": {},
   "source": [
    "### Sampling Interommatidial Angles\n",
    "\n",
    "Problems:\n",
    "1. slow algorithm to find two points with fixed distance on curve(need help)"
   ]
  },
  {
   "cell_type": "code",
   "execution_count": 61,
   "metadata": {},
   "outputs": [],
   "source": [
    "from scipy.integrate import quad\n",
    "\n",
    "\n",
    "# def integrand(x):\n",
    "#     return np.sqrt(1 + dp_dx(x)**2)\n",
    "\n",
    "def find_x2(arc_length, x1):\n",
    "    # Integrate the integrand over the interval from x1 to x2 to get the arc length\n",
    "    x2 = x1\n",
    "    arc_length_temp = 0.0\n",
    "    while arc_length_temp < arc_length:\n",
    "        x2 += 0.0001  # increment x2 by a small amount\n",
    "        arc_length_temp, _ = quad(integrand, x1, x2)\n",
    "        #print(arc_length_temp)\n",
    "    \n",
    "    return x2"
   ]
  },
  {
   "cell_type": "code",
   "execution_count": 113,
   "metadata": {},
   "outputs": [
    {
     "name": "stderr",
     "output_type": "stream",
     "text": [
      "  0%|          | 0/1000 [00:00<?, ?it/s]c:\\Users\\33433\\anaconda3\\envs\\oda\\lib\\site-packages\\IPython\\core\\interactiveshell.py:3460: RankWarning: Polyfit may be poorly conditioned\n",
      "  exec(code_obj, self.user_global_ns, self.user_ns)\n"
     ]
    },
    {
     "name": "stdout",
     "output_type": "stream",
     "text": [
      "0.02534604589959497\n",
      "0.045990870290028955\n",
      "0.04478206351692559\n",
      "0.0384848752840805\n",
      "0.027015890890874788\n",
      "0.04544756850479647\n",
      "0.036294583658673676\n",
      "0.03474494771522664\n"
     ]
    },
    {
     "name": "stderr",
     "output_type": "stream",
     "text": [
      "  7%|▋         | 71/1000 [02:03<26:59,  1.74s/it]"
     ]
    },
    {
     "name": "stdout",
     "output_type": "stream",
     "text": [
      "0.04503698040307043\n"
     ]
    },
    {
     "name": "stderr",
     "output_type": "stream",
     "text": [
      "c:\\Users\\33433\\anaconda3\\envs\\oda\\lib\\site-packages\\IPython\\core\\interactiveshell.py:3460: RankWarning: Polyfit may be poorly conditioned\n",
      "  exec(code_obj, self.user_global_ns, self.user_ns)\n"
     ]
    },
    {
     "name": "stdout",
     "output_type": "stream",
     "text": [
      "0.01619723112191754\n",
      "0.017934407023805537\n",
      "0.023160382516224758\n",
      "0.02049094082800209\n",
      "0.01650677581134442\n",
      "0.023909787054514995\n",
      "0.02135743718247178\n",
      "0.023241335421055016\n"
     ]
    },
    {
     "name": "stderr",
     "output_type": "stream",
     "text": [
      " 13%|█▎        | 130/1000 [04:01<27:15,  1.88s/it]"
     ]
    },
    {
     "name": "stdout",
     "output_type": "stream",
     "text": [
      "0.02108383464509945\n"
     ]
    },
    {
     "name": "stderr",
     "output_type": "stream",
     "text": [
      "c:\\Users\\33433\\anaconda3\\envs\\oda\\lib\\site-packages\\IPython\\core\\interactiveshell.py:3460: RankWarning: Polyfit may be poorly conditioned\n",
      "  exec(code_obj, self.user_global_ns, self.user_ns)\n",
      "c:\\Users\\33433\\anaconda3\\envs\\oda\\lib\\site-packages\\IPython\\core\\interactiveshell.py:3460: RankWarning: Polyfit may be poorly conditioned\n",
      "  exec(code_obj, self.user_global_ns, self.user_ns)\n",
      "c:\\Users\\33433\\anaconda3\\envs\\oda\\lib\\site-packages\\IPython\\core\\interactiveshell.py:3460: RankWarning: Polyfit may be poorly conditioned\n",
      "  exec(code_obj, self.user_global_ns, self.user_ns)\n"
     ]
    },
    {
     "name": "stdout",
     "output_type": "stream",
     "text": [
      "0.025103901511465174\n",
      "0.022440779495110173\n",
      "0.018336546470272466\n",
      "0.02700323504500623\n",
      "0.019756730665644397\n",
      "0.02634820636411475\n"
     ]
    },
    {
     "name": "stderr",
     "output_type": "stream",
     "text": [
      " 24%|██▎       | 237/1000 [06:03<18:25,  1.45s/it]"
     ]
    },
    {
     "name": "stdout",
     "output_type": "stream",
     "text": [
      "0.019446288305781198\n"
     ]
    },
    {
     "name": "stderr",
     "output_type": "stream",
     "text": [
      "c:\\Users\\33433\\anaconda3\\envs\\oda\\lib\\site-packages\\IPython\\core\\interactiveshell.py:3460: RankWarning: Polyfit may be poorly conditioned\n",
      "  exec(code_obj, self.user_global_ns, self.user_ns)\n",
      "c:\\Users\\33433\\anaconda3\\envs\\oda\\lib\\site-packages\\IPython\\core\\interactiveshell.py:3460: RankWarning: Polyfit may be poorly conditioned\n",
      "  exec(code_obj, self.user_global_ns, self.user_ns)\n"
     ]
    },
    {
     "name": "stdout",
     "output_type": "stream",
     "text": [
      "0.016825800150322725\n",
      "0.022257401168173582\n",
      "0.0185453388997145\n",
      "0.02398866811582355\n",
      "0.02124042382459511\n",
      "0.01895770621678986\n",
      "0.020242353585918502\n",
      "0.022970317796314844\n"
     ]
    },
    {
     "name": "stderr",
     "output_type": "stream",
     "text": [
      " 28%|██▊       | 280/1000 [08:04<21:29,  1.79s/it]"
     ]
    },
    {
     "name": "stdout",
     "output_type": "stream",
     "text": [
      "0.02519152258144434\n"
     ]
    },
    {
     "name": "stderr",
     "output_type": "stream",
     "text": [
      "c:\\Users\\33433\\anaconda3\\envs\\oda\\lib\\site-packages\\IPython\\core\\interactiveshell.py:3460: RankWarning: Polyfit may be poorly conditioned\n",
      "  exec(code_obj, self.user_global_ns, self.user_ns)\n",
      "c:\\Users\\33433\\anaconda3\\envs\\oda\\lib\\site-packages\\IPython\\core\\interactiveshell.py:3460: RankWarning: Polyfit may be poorly conditioned\n",
      "  exec(code_obj, self.user_global_ns, self.user_ns)\n",
      "c:\\Users\\33433\\anaconda3\\envs\\oda\\lib\\site-packages\\IPython\\core\\interactiveshell.py:3460: RankWarning: Polyfit may be poorly conditioned\n",
      "  exec(code_obj, self.user_global_ns, self.user_ns)\n"
     ]
    },
    {
     "name": "stdout",
     "output_type": "stream",
     "text": [
      "0.02744368725312617\n",
      "0.026431559932302184\n",
      "0.020968421074340427\n",
      "0.021879702365831918\n",
      "0.02631149097667576\n",
      "0.0229403188003502\n",
      "0.02237463187506537\n",
      "0.024946328106324512\n"
     ]
    },
    {
     "name": "stderr",
     "output_type": "stream",
     "text": [
      " 33%|███▎      | 328/1000 [10:11<22:48,  2.04s/it]"
     ]
    },
    {
     "name": "stdout",
     "output_type": "stream",
     "text": [
      "0.021012742574873115\n"
     ]
    },
    {
     "name": "stderr",
     "output_type": "stream",
     "text": [
      "c:\\Users\\33433\\anaconda3\\envs\\oda\\lib\\site-packages\\IPython\\core\\interactiveshell.py:3460: RankWarning: Polyfit may be poorly conditioned\n",
      "  exec(code_obj, self.user_global_ns, self.user_ns)\n",
      "c:\\Users\\33433\\anaconda3\\envs\\oda\\lib\\site-packages\\IPython\\core\\interactiveshell.py:3460: RankWarning: Polyfit may be poorly conditioned\n",
      "  exec(code_obj, self.user_global_ns, self.user_ns)\n"
     ]
    },
    {
     "name": "stdout",
     "output_type": "stream",
     "text": [
      "0.025670266809010477\n",
      "0.041176006533984816\n",
      "0.029855167532493634\n",
      "0.037188722152255584\n",
      "0.03385905506091886\n",
      "0.025874213299178907\n",
      "0.031156804136588466\n"
     ]
    },
    {
     "name": "stderr",
     "output_type": "stream",
     "text": [
      " 41%|████      | 411/1000 [12:09<17:29,  1.78s/it]"
     ]
    },
    {
     "name": "stdout",
     "output_type": "stream",
     "text": [
      "0.02891419885122118\n"
     ]
    },
    {
     "name": "stderr",
     "output_type": "stream",
     "text": [
      "c:\\Users\\33433\\anaconda3\\envs\\oda\\lib\\site-packages\\IPython\\core\\interactiveshell.py:3460: RankWarning: Polyfit may be poorly conditioned\n",
      "  exec(code_obj, self.user_global_ns, self.user_ns)\n",
      "c:\\Users\\33433\\anaconda3\\envs\\oda\\lib\\site-packages\\IPython\\core\\interactiveshell.py:3460: RankWarning: Polyfit may be poorly conditioned\n",
      "  exec(code_obj, self.user_global_ns, self.user_ns)\n",
      "c:\\Users\\33433\\anaconda3\\envs\\oda\\lib\\site-packages\\IPython\\core\\interactiveshell.py:3460: RankWarning: Polyfit may be poorly conditioned\n",
      "  exec(code_obj, self.user_global_ns, self.user_ns)\n"
     ]
    },
    {
     "name": "stdout",
     "output_type": "stream",
     "text": [
      "0.029187675535562535\n",
      "0.0443616955448611\n",
      "0.03488307446520951\n",
      "0.02901351988775679\n",
      "0.04055135765770682\n",
      "0.030937514581819765\n",
      "0.026268158720480106\n",
      "0.03208904308999792\n"
     ]
    },
    {
     "name": "stderr",
     "output_type": "stream",
     "text": [
      " 51%|█████▏    | 513/1000 [14:16<12:36,  1.55s/it]"
     ]
    },
    {
     "name": "stdout",
     "output_type": "stream",
     "text": [
      "0.03556884690143005\n",
      "0.02246930727342022\n",
      "0.03607632772389567\n",
      "0.03191294519528911\n",
      "0.029507517648750686\n",
      "0.021687970053577334\n",
      "0.03403676326650409\n",
      "0.02446592868495888\n"
     ]
    },
    {
     "name": "stderr",
     "output_type": "stream",
     "text": [
      " 55%|█████▍    | 547/1000 [16:20<14:22,  1.90s/it]"
     ]
    },
    {
     "name": "stdout",
     "output_type": "stream",
     "text": [
      "0.026874169637883527\n",
      "0.04764569483761505\n",
      "0.026067674677921364\n",
      "0.029941774152694292\n",
      "0.04703329217891115\n",
      "0.036022026268831754\n",
      "0.04267080108232166\n",
      "0.04436585404151574\n"
     ]
    },
    {
     "name": "stderr",
     "output_type": "stream",
     "text": [
      " 56%|█████▋    | 564/1000 [18:23<17:56,  2.47s/it]"
     ]
    },
    {
     "name": "stdout",
     "output_type": "stream",
     "text": [
      "0.03422035131860912\n",
      "0.02037921964414182\n",
      "0.02271302918287349\n",
      "0.024745367671814084\n",
      "0.025412006386678215\n",
      "0.02303631819592043\n",
      "0.023937773235171204\n",
      "0.02186087117736326\n"
     ]
    },
    {
     "name": "stderr",
     "output_type": "stream",
     "text": [
      " 58%|█████▊    | 579/1000 [20:31<22:22,  3.19s/it]"
     ]
    },
    {
     "name": "stdout",
     "output_type": "stream",
     "text": [
      "0.021548288440707684\n"
     ]
    },
    {
     "name": "stderr",
     "output_type": "stream",
     "text": [
      "c:\\Users\\33433\\anaconda3\\envs\\oda\\lib\\site-packages\\IPython\\core\\interactiveshell.py:3460: RankWarning: Polyfit may be poorly conditioned\n",
      "  exec(code_obj, self.user_global_ns, self.user_ns)\n",
      "c:\\Users\\33433\\anaconda3\\envs\\oda\\lib\\site-packages\\IPython\\core\\interactiveshell.py:3460: RankWarning: Polyfit may be poorly conditioned\n",
      "  exec(code_obj, self.user_global_ns, self.user_ns)\n"
     ]
    },
    {
     "name": "stdout",
     "output_type": "stream",
     "text": [
      "0.030212676798729462\n",
      "0.023563035734819625\n",
      "0.03233580047327169\n",
      "0.033526478445223294\n",
      "0.02667465092661012\n",
      "0.02511110006473133\n",
      "0.02531053628119916\n",
      "0.027675354925925356\n",
      "0.026270199058305452\n"
     ]
    },
    {
     "name": "stderr",
     "output_type": "stream",
     "text": [
      " 65%|██████▍   | 649/1000 [22:37<15:03,  2.58s/it]"
     ]
    },
    {
     "name": "stdout",
     "output_type": "stream",
     "text": [
      "0.028512296824762404\n",
      "0.01241685454173336\n",
      "0.010940307040667358\n",
      "0.011673305068050173\n",
      "0.010724678384810712\n",
      "0.011835200172879548\n",
      "0.012515279795020063\n",
      "0.011270775411323548\n",
      "0.011839827267404927\n"
     ]
    },
    {
     "name": "stderr",
     "output_type": "stream",
     "text": [
      " 66%|██████▌   | 657/1000 [26:00<23:29,  4.11s/it]"
     ]
    },
    {
     "name": "stdout",
     "output_type": "stream",
     "text": [
      "0.010219304947332263\n",
      "0.02825573584049819\n",
      "0.02401431361614882\n",
      "0.01949569364365628\n",
      "0.027160392324767295\n",
      "0.02256557984667205\n",
      "0.027288671643205437\n"
     ]
    },
    {
     "name": "stderr",
     "output_type": "stream",
     "text": [
      " 67%|██████▋   | 670/1000 [27:56<26:11,  4.76s/it]"
     ]
    },
    {
     "name": "stdout",
     "output_type": "stream",
     "text": [
      "0.018987705173917426\n",
      "0.030034753963026163\n",
      "0.02479537871829153\n",
      "0.022871145608813533\n",
      "0.027762620505387955\n",
      "0.02179040925965021\n",
      "0.027932659936641954\n",
      "0.034907551494978525\n"
     ]
    },
    {
     "name": "stderr",
     "output_type": "stream",
     "text": [
      " 69%|██████▉   | 689/1000 [30:01<26:43,  5.16s/it]"
     ]
    },
    {
     "name": "stdout",
     "output_type": "stream",
     "text": [
      "0.024668170344744767\n"
     ]
    },
    {
     "name": "stderr",
     "output_type": "stream",
     "text": [
      "c:\\Users\\33433\\anaconda3\\envs\\oda\\lib\\site-packages\\IPython\\core\\interactiveshell.py:3460: RankWarning: Polyfit may be poorly conditioned\n",
      "  exec(code_obj, self.user_global_ns, self.user_ns)\n",
      "c:\\Users\\33433\\anaconda3\\envs\\oda\\lib\\site-packages\\IPython\\core\\interactiveshell.py:3460: RankWarning: Polyfit may be poorly conditioned\n",
      "  exec(code_obj, self.user_global_ns, self.user_ns)\n",
      "c:\\Users\\33433\\anaconda3\\envs\\oda\\lib\\site-packages\\IPython\\core\\interactiveshell.py:3460: RankWarning: Polyfit may be poorly conditioned\n",
      "  exec(code_obj, self.user_global_ns, self.user_ns)\n",
      "c:\\Users\\33433\\anaconda3\\envs\\oda\\lib\\site-packages\\IPython\\core\\interactiveshell.py:3460: RankWarning: Polyfit may be poorly conditioned\n",
      "  exec(code_obj, self.user_global_ns, self.user_ns)\n",
      "c:\\Users\\33433\\anaconda3\\envs\\oda\\lib\\site-packages\\IPython\\core\\interactiveshell.py:3460: RankWarning: Polyfit may be poorly conditioned\n",
      "  exec(code_obj, self.user_global_ns, self.user_ns)\n"
     ]
    },
    {
     "name": "stdout",
     "output_type": "stream",
     "text": [
      "0.02233176469195025\n",
      "0.01749334351848919\n",
      "0.01588813221413741\n",
      "0.021784751671279027\n",
      "0.02243903488216874\n",
      "0.016352116184459874\n"
     ]
    },
    {
     "name": "stderr",
     "output_type": "stream",
     "text": [
      " 80%|████████  | 800/1000 [31:59<08:21,  2.51s/it]c:\\Users\\33433\\anaconda3\\envs\\oda\\lib\\site-packages\\IPython\\core\\interactiveshell.py:3460: RankWarning: Polyfit may be poorly conditioned\n",
      "  exec(code_obj, self.user_global_ns, self.user_ns)\n"
     ]
    },
    {
     "name": "stdout",
     "output_type": "stream",
     "text": [
      "0.029936910854840702\n",
      "0.04684896404227328\n",
      "0.0390823282586532\n",
      "0.04117492787251765\n",
      "0.039000498388747584\n",
      "0.025811187582538128\n",
      "0.03982387480434376\n",
      "0.03250998705197963\n"
     ]
    },
    {
     "name": "stderr",
     "output_type": "stream",
     "text": [
      " 83%|████████▎ | 830/1000 [34:05<08:04,  2.85s/it]c:\\Users\\33433\\anaconda3\\envs\\oda\\lib\\site-packages\\IPython\\core\\interactiveshell.py:3460: RankWarning: Polyfit may be poorly conditioned\n",
      "  exec(code_obj, self.user_global_ns, self.user_ns)\n",
      "100%|██████████| 1000/1000 [34:05<00:00,  2.05s/it]"
     ]
    },
    {
     "name": "stdout",
     "output_type": "stream",
     "text": [
      "0.045666065157062584\n"
     ]
    },
    {
     "name": "stderr",
     "output_type": "stream",
     "text": [
      "\n"
     ]
    }
   ],
   "source": [
    "for i in tqdm(range(1000)):\n",
    "    num_omma = 10\n",
    "    omma_diameter_pixel = 15.88732\n",
    "    upper_bound = int(np.ceil(omma_diameter_pixel*num_omma))\n",
    "    new_coords = coords[:-abs(upper_bound)]\n",
    "    start = random.choice(new_coords)\n",
    "\n",
    "    omma_points = []\n",
    "    current_omma = start\n",
    "    new_coords_omma = coords.copy()\n",
    "    current_index = np.where((new_coords_omma == current_omma).all(axis=1))[0][0]\n",
    "\n",
    "    i = 0 \n",
    "    while i < num_omma:\n",
    "        i += 1\n",
    "        current_index, next_omma = find_point_on_line(new_coords_omma, omma_diameter_pixel, current_omma, current_index)\n",
    "        new_coords_omma = np.insert(new_coords_omma, current_index - 1, next_omma, axis = 0)\n",
    "        omma_points.append(next_omma)\n",
    "        current_omma = next_omma\n",
    "    \n",
    "    x = np.array([p[0] for p in omma_points])\n",
    "    xp = np.linspace(x[0], x[-1], 1000)\n",
    "    y = np.array([p[1] for p in omma_points])\n",
    "\n",
    "    coeffs = np.polyfit(x, y, 2)\n",
    "    y_fit = np.polyval(coeffs, x)\n",
    "    sse = np.sum((y_fit - y)**2)\n",
    "\n",
    "    if sse > 10:\n",
    "        continue \n",
    "    else:\n",
    "        poly_curve = np.poly1d(coeffs)\n",
    "        deriv1 = poly_curve.deriv()\n",
    "\n",
    "        def integrand(x):\n",
    "            return np.sqrt(1 + deriv1(x)**2) \n",
    "        \n",
    "        for i in range(10):\n",
    "            x_omma1 = np.random.uniform(xp[0],xp[-1])\n",
    "            y_omma1 = poly_curve(x_omma1)\n",
    "    \n",
    "            arc_length = 21.5385\n",
    "            x_omma2 = find_x2(arc_length, x_omma1)\n",
    "            if x_omma2 > xp[-1]:\n",
    "                continue\n",
    "\n",
    "            y_omma2 = poly_curve(x_omma2)\n",
    "            d1 = deriv1(x_omma1)\n",
    "            d2 = deriv1(x_omma2)\n",
    "            m1 = -1/d1\n",
    "            b1 = y_omma1 - m1 * x_omma1\n",
    "            m2 = -1/d2\n",
    "            b2 = y_omma2 - m2 * x_omma2\n",
    "            x_intersect = (b2 - b1) / (m1 - m2)\n",
    "            y_intersect = m1 * x_intersect + b1\n",
    "\n",
    "            angle = np.arctan(abs((m2 - m1) / (1 + m1 * m2)))\n",
    "            print(angle)\n",
    "            angle_list.append(angle)       "
   ]
  },
  {
   "cell_type": "code",
   "execution_count": 114,
   "metadata": {},
   "outputs": [
    {
     "data": {
      "image/png": "[encoded data removed]",
      "text/plain": [
       "<Figure size 640x480 with 1 Axes>"
      ]
     },
     "metadata": {},
     "output_type": "display_data"
    }
   ],
   "source": [
    "plt.hist(angle_list)\n",
    "plt.show()"
   ]
  },
  {
   "cell_type": "code",
   "execution_count": 90,
   "metadata": {},
   "outputs": [],
   "source": [
    "x_omma1 = np.random.uniform(xp[0],xp[-1])\n",
    "y_omma1 = curve(x_omma1)\n",
    "dp_dx = curve.deriv()\n",
    "\n",
    "arc_length = 21.5385\n",
    "x_omma2 = find_x2(arc_length, x_omma1)\n",
    "y_omma2 = curve(x_omma1)\n",
    "d1 = curve.deriv()(x_omma1)\n",
    "d2 = curve.deriv()(x_omma2)\n",
    "\n",
    "m1 = -1/d1\n",
    "b1 = y_omma1 - m1 * x_omma1\n",
    "m2 = -1/d2\n",
    "b2 = y_omma2 - m2 * x_omma2\n",
    "\n",
    "x_intersect = (b2 - b1) / (m1 - m2)\n",
    "y_intersect = m1 * x_intersect + b1\n",
    "\n",
    "angle = np.arctan(abs((m2 - m1) / (1 + m1 * m2)))"
   ]
  },
  {
   "cell_type": "code",
   "execution_count": 91,
   "metadata": {},
   "outputs": [
    {
     "data": {
      "text/plain": [
       "4.436392894534693e-06"
      ]
     },
     "execution_count": 91,
     "metadata": {},
     "output_type": "execute_result"
    }
   ],
   "source": [
    "angle"
   ]
  },
  {
   "cell_type": "code",
   "execution_count": 50,
   "metadata": {},
   "outputs": [
    {
     "data": {
      "text/plain": [
       "21.550531017738148"
      ]
     },
     "execution_count": 50,
     "metadata": {},
     "output_type": "execute_result"
    }
   ],
   "source": [
    "arc_length_temp, _ = quad(integrand, x_omma1, x_omma2)\n",
    "arc_length_temp"
   ]
  },
  {
   "cell_type": "code",
   "execution_count": 64,
   "metadata": {},
   "outputs": [
    {
     "data": {
      "text/plain": [
       "poly1d([-1.06182546e+00,  9.23921675e+03, -2.00962465e+07])"
      ]
     },
     "execution_count": 64,
     "metadata": {},
     "output_type": "execute_result"
    }
   ],
   "source": [
    "curve"
   ]
  }
 ],
 "metadata": {
  "kernelspec": {
   "display_name": "oda",
   "language": "python",
   "name": "python3"
  },
  "language_info": {
   "codemirror_mode": {
    "name": "ipython",
    "version": 3
   },
   "file_extension": ".py",
   "mimetype": "text/x-python",
   "name": "python",
   "nbconvert_exporter": "python",
   "pygments_lexer": "ipython3",
   "version": "3.9.16"
  },
  "orig_nbformat": 4
 },
 "nbformat": 4,
 "nbformat_minor": 2
}
